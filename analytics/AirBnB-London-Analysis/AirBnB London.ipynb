{
 "cells": [
  {
   "cell_type": "markdown",
   "metadata": {},
   "source": [
    "# Identify key terms, features and/or amenities used to market/brand AirBnB listings in London"
   ]
  },
  {
   "cell_type": "markdown",
   "metadata": {},
   "source": [
    "Question(s) that will inspire data analytics:\n",
    "1. What are the most popular listings in London ?\n",
    "2. What are the most influential features or amenities in the most popular listings?\n",
    "3. What are the key terms used to identify the most popular listings ?"
   ]
  },
  {
   "cell_type": "code",
   "execution_count": 1,
   "metadata": {},
   "outputs": [],
   "source": [
    "# Library Imports\n",
    "import numpy as np\n",
    "import pandas as pd\n",
    "import seaborn as sns\n",
    "import matplotlib.pyplot as plt\n",
    "%matplotlib inline\n"
   ]
  },
  {
   "cell_type": "code",
   "execution_count": 2,
   "metadata": {},
   "outputs": [],
   "source": [
    "#All the Paths in used to load data.\n",
    "listings = pd.read_csv('data/listings.csv')\n",
    "reviews = pd.read_csv('data/reviews.csv')\n",
    "calendar = pd.read_csv('data/calendar.csv')"
   ]
  },
  {
   "cell_type": "markdown",
   "metadata": {},
   "source": [
    "### DATA UNDERSTANDING\n"
   ]
  },
  {
   "cell_type": "code",
   "execution_count": 3,
   "metadata": {},
   "outputs": [
    {
     "data": {
      "text/html": [
       "<div>\n",
       "<style scoped>\n",
       "    .dataframe tbody tr th:only-of-type {\n",
       "        vertical-align: middle;\n",
       "    }\n",
       "\n",
       "    .dataframe tbody tr th {\n",
       "        vertical-align: top;\n",
       "    }\n",
       "\n",
       "    .dataframe thead th {\n",
       "        text-align: right;\n",
       "    }\n",
       "</style>\n",
       "<table border=\"1\" class=\"dataframe\">\n",
       "  <thead>\n",
       "    <tr style=\"text-align: right;\">\n",
       "      <th></th>\n",
       "      <th>id</th>\n",
       "      <th>name</th>\n",
       "      <th>host_id</th>\n",
       "      <th>host_name</th>\n",
       "      <th>neighbourhood_group</th>\n",
       "      <th>neighbourhood</th>\n",
       "      <th>latitude</th>\n",
       "      <th>longitude</th>\n",
       "      <th>room_type</th>\n",
       "      <th>price</th>\n",
       "      <th>minimum_nights</th>\n",
       "      <th>number_of_reviews</th>\n",
       "      <th>last_review</th>\n",
       "      <th>reviews_per_month</th>\n",
       "      <th>calculated_host_listings_count</th>\n",
       "      <th>availability_365</th>\n",
       "    </tr>\n",
       "  </thead>\n",
       "  <tbody>\n",
       "    <tr>\n",
       "      <th>0</th>\n",
       "      <td>11551</td>\n",
       "      <td>Arty and Bright London Apartment in Zone 2</td>\n",
       "      <td>43039</td>\n",
       "      <td>Adriano</td>\n",
       "      <td>NaN</td>\n",
       "      <td>Lambeth</td>\n",
       "      <td>51.46225</td>\n",
       "      <td>-0.11732</td>\n",
       "      <td>Entire home/apt</td>\n",
       "      <td>105</td>\n",
       "      <td>2</td>\n",
       "      <td>192</td>\n",
       "      <td>2020-03-26</td>\n",
       "      <td>1.46</td>\n",
       "      <td>2</td>\n",
       "      <td>338</td>\n",
       "    </tr>\n",
       "    <tr>\n",
       "      <th>1</th>\n",
       "      <td>13913</td>\n",
       "      <td>Holiday London DB Room Let-on going</td>\n",
       "      <td>54730</td>\n",
       "      <td>Alina</td>\n",
       "      <td>NaN</td>\n",
       "      <td>Islington</td>\n",
       "      <td>51.56802</td>\n",
       "      <td>-0.11121</td>\n",
       "      <td>Private room</td>\n",
       "      <td>40</td>\n",
       "      <td>1</td>\n",
       "      <td>21</td>\n",
       "      <td>2020-02-22</td>\n",
       "      <td>0.17</td>\n",
       "      <td>2</td>\n",
       "      <td>365</td>\n",
       "    </tr>\n",
       "    <tr>\n",
       "      <th>2</th>\n",
       "      <td>15400</td>\n",
       "      <td>Bright Chelsea  Apartment. Chelsea!</td>\n",
       "      <td>60302</td>\n",
       "      <td>Philippa</td>\n",
       "      <td>NaN</td>\n",
       "      <td>Kensington and Chelsea</td>\n",
       "      <td>51.48796</td>\n",
       "      <td>-0.16898</td>\n",
       "      <td>Entire home/apt</td>\n",
       "      <td>75</td>\n",
       "      <td>10</td>\n",
       "      <td>89</td>\n",
       "      <td>2020-03-16</td>\n",
       "      <td>0.66</td>\n",
       "      <td>1</td>\n",
       "      <td>189</td>\n",
       "    </tr>\n",
       "    <tr>\n",
       "      <th>3</th>\n",
       "      <td>17402</td>\n",
       "      <td>Superb 3-Bed/2 Bath &amp; Wifi: Trendy W1</td>\n",
       "      <td>67564</td>\n",
       "      <td>Liz</td>\n",
       "      <td>NaN</td>\n",
       "      <td>Westminster</td>\n",
       "      <td>51.52195</td>\n",
       "      <td>-0.14094</td>\n",
       "      <td>Entire home/apt</td>\n",
       "      <td>307</td>\n",
       "      <td>4</td>\n",
       "      <td>42</td>\n",
       "      <td>2019-11-02</td>\n",
       "      <td>0.35</td>\n",
       "      <td>15</td>\n",
       "      <td>231</td>\n",
       "    </tr>\n",
       "    <tr>\n",
       "      <th>4</th>\n",
       "      <td>17506</td>\n",
       "      <td>Boutique Chelsea/Fulham Double bed 5-star ensuite</td>\n",
       "      <td>67915</td>\n",
       "      <td>Charlotte</td>\n",
       "      <td>NaN</td>\n",
       "      <td>Hammersmith and Fulham</td>\n",
       "      <td>51.47935</td>\n",
       "      <td>-0.19743</td>\n",
       "      <td>Private room</td>\n",
       "      <td>150</td>\n",
       "      <td>3</td>\n",
       "      <td>0</td>\n",
       "      <td>NaN</td>\n",
       "      <td>NaN</td>\n",
       "      <td>2</td>\n",
       "      <td>364</td>\n",
       "    </tr>\n",
       "  </tbody>\n",
       "</table>\n",
       "</div>"
      ],
      "text/plain": [
       "      id                                               name  host_id  \\\n",
       "0  11551         Arty and Bright London Apartment in Zone 2    43039   \n",
       "1  13913                Holiday London DB Room Let-on going    54730   \n",
       "2  15400                Bright Chelsea  Apartment. Chelsea!    60302   \n",
       "3  17402              Superb 3-Bed/2 Bath & Wifi: Trendy W1    67564   \n",
       "4  17506  Boutique Chelsea/Fulham Double bed 5-star ensuite    67915   \n",
       "\n",
       "   host_name  neighbourhood_group           neighbourhood  latitude  \\\n",
       "0    Adriano                  NaN                 Lambeth  51.46225   \n",
       "1      Alina                  NaN               Islington  51.56802   \n",
       "2   Philippa                  NaN  Kensington and Chelsea  51.48796   \n",
       "3        Liz                  NaN             Westminster  51.52195   \n",
       "4  Charlotte                  NaN  Hammersmith and Fulham  51.47935   \n",
       "\n",
       "   longitude        room_type  price  minimum_nights  number_of_reviews  \\\n",
       "0   -0.11732  Entire home/apt    105               2                192   \n",
       "1   -0.11121     Private room     40               1                 21   \n",
       "2   -0.16898  Entire home/apt     75              10                 89   \n",
       "3   -0.14094  Entire home/apt    307               4                 42   \n",
       "4   -0.19743     Private room    150               3                  0   \n",
       "\n",
       "  last_review  reviews_per_month  calculated_host_listings_count  \\\n",
       "0  2020-03-26               1.46                               2   \n",
       "1  2020-02-22               0.17                               2   \n",
       "2  2020-03-16               0.66                               1   \n",
       "3  2019-11-02               0.35                              15   \n",
       "4         NaN                NaN                               2   \n",
       "\n",
       "   availability_365  \n",
       "0               338  \n",
       "1               365  \n",
       "2               189  \n",
       "3               231  \n",
       "4               364  "
      ]
     },
     "execution_count": 3,
     "metadata": {},
     "output_type": "execute_result"
    }
   ],
   "source": [
    "listings.head()"
   ]
  },
  {
   "cell_type": "code",
   "execution_count": 4,
   "metadata": {},
   "outputs": [
    {
     "name": "stdout",
     "output_type": "stream",
     "text": [
      "<class 'pandas.core.frame.DataFrame'>\n",
      "RangeIndex: 77136 entries, 0 to 77135\n",
      "Data columns (total 16 columns):\n",
      " #   Column                          Non-Null Count  Dtype  \n",
      "---  ------                          --------------  -----  \n",
      " 0   id                              77136 non-null  int64  \n",
      " 1   name                            77112 non-null  object \n",
      " 2   host_id                         77136 non-null  int64  \n",
      " 3   host_name                       77095 non-null  object \n",
      " 4   neighbourhood_group             0 non-null      float64\n",
      " 5   neighbourhood                   77136 non-null  object \n",
      " 6   latitude                        77136 non-null  float64\n",
      " 7   longitude                       77136 non-null  float64\n",
      " 8   room_type                       77136 non-null  object \n",
      " 9   price                           77136 non-null  int64  \n",
      " 10  minimum_nights                  77136 non-null  int64  \n",
      " 11  number_of_reviews               77136 non-null  int64  \n",
      " 12  last_review                     54705 non-null  object \n",
      " 13  reviews_per_month               54705 non-null  float64\n",
      " 14  calculated_host_listings_count  77136 non-null  int64  \n",
      " 15  availability_365                77136 non-null  int64  \n",
      "dtypes: float64(4), int64(7), object(5)\n",
      "memory usage: 9.4+ MB\n"
     ]
    }
   ],
   "source": [
    "listings.info()"
   ]
  },
  {
   "cell_type": "code",
   "execution_count": 5,
   "metadata": {},
   "outputs": [
    {
     "data": {
      "text/html": [
       "<div>\n",
       "<style scoped>\n",
       "    .dataframe tbody tr th:only-of-type {\n",
       "        vertical-align: middle;\n",
       "    }\n",
       "\n",
       "    .dataframe tbody tr th {\n",
       "        vertical-align: top;\n",
       "    }\n",
       "\n",
       "    .dataframe thead th {\n",
       "        text-align: right;\n",
       "    }\n",
       "</style>\n",
       "<table border=\"1\" class=\"dataframe\">\n",
       "  <thead>\n",
       "    <tr style=\"text-align: right;\">\n",
       "      <th></th>\n",
       "      <th>listing_id</th>\n",
       "      <th>date</th>\n",
       "    </tr>\n",
       "  </thead>\n",
       "  <tbody>\n",
       "    <tr>\n",
       "      <th>0</th>\n",
       "      <td>11551</td>\n",
       "      <td>2010-03-21</td>\n",
       "    </tr>\n",
       "    <tr>\n",
       "      <th>1</th>\n",
       "      <td>11551</td>\n",
       "      <td>2010-03-29</td>\n",
       "    </tr>\n",
       "    <tr>\n",
       "      <th>2</th>\n",
       "      <td>11551</td>\n",
       "      <td>2010-05-09</td>\n",
       "    </tr>\n",
       "    <tr>\n",
       "      <th>3</th>\n",
       "      <td>11551</td>\n",
       "      <td>2010-06-01</td>\n",
       "    </tr>\n",
       "    <tr>\n",
       "      <th>4</th>\n",
       "      <td>11551</td>\n",
       "      <td>2010-06-28</td>\n",
       "    </tr>\n",
       "  </tbody>\n",
       "</table>\n",
       "</div>"
      ],
      "text/plain": [
       "   listing_id        date\n",
       "0       11551  2010-03-21\n",
       "1       11551  2010-03-29\n",
       "2       11551  2010-05-09\n",
       "3       11551  2010-06-01\n",
       "4       11551  2010-06-28"
      ]
     },
     "execution_count": 5,
     "metadata": {},
     "output_type": "execute_result"
    }
   ],
   "source": [
    "reviews.head()"
   ]
  },
  {
   "cell_type": "code",
   "execution_count": 6,
   "metadata": {},
   "outputs": [
    {
     "name": "stdout",
     "output_type": "stream",
     "text": [
      "<class 'pandas.core.frame.DataFrame'>\n",
      "RangeIndex: 1178933 entries, 0 to 1178932\n",
      "Data columns (total 2 columns):\n",
      " #   Column      Non-Null Count    Dtype \n",
      "---  ------      --------------    ----- \n",
      " 0   listing_id  1178933 non-null  int64 \n",
      " 1   date        1178933 non-null  object\n",
      "dtypes: int64(1), object(1)\n",
      "memory usage: 18.0+ MB\n"
     ]
    }
   ],
   "source": [
    "reviews.info()"
   ]
  },
  {
   "cell_type": "code",
   "execution_count": 7,
   "metadata": {},
   "outputs": [
    {
     "data": {
      "text/html": [
       "<div>\n",
       "<style scoped>\n",
       "    .dataframe tbody tr th:only-of-type {\n",
       "        vertical-align: middle;\n",
       "    }\n",
       "\n",
       "    .dataframe tbody tr th {\n",
       "        vertical-align: top;\n",
       "    }\n",
       "\n",
       "    .dataframe thead th {\n",
       "        text-align: right;\n",
       "    }\n",
       "</style>\n",
       "<table border=\"1\" class=\"dataframe\">\n",
       "  <thead>\n",
       "    <tr style=\"text-align: right;\">\n",
       "      <th></th>\n",
       "      <th>listing_id</th>\n",
       "      <th>date</th>\n",
       "      <th>available</th>\n",
       "      <th>price</th>\n",
       "      <th>adjusted_price</th>\n",
       "      <th>minimum_nights</th>\n",
       "      <th>maximum_nights</th>\n",
       "    </tr>\n",
       "  </thead>\n",
       "  <tbody>\n",
       "    <tr>\n",
       "      <th>0</th>\n",
       "      <td>6874942</td>\n",
       "      <td>2020-12-30</td>\n",
       "      <td>t</td>\n",
       "      <td>$100.00</td>\n",
       "      <td>$100.00</td>\n",
       "      <td>2.0</td>\n",
       "      <td>1125.0</td>\n",
       "    </tr>\n",
       "    <tr>\n",
       "      <th>1</th>\n",
       "      <td>6874942</td>\n",
       "      <td>2020-12-31</td>\n",
       "      <td>f</td>\n",
       "      <td>$100.00</td>\n",
       "      <td>$100.00</td>\n",
       "      <td>2.0</td>\n",
       "      <td>1125.0</td>\n",
       "    </tr>\n",
       "    <tr>\n",
       "      <th>2</th>\n",
       "      <td>6874942</td>\n",
       "      <td>2021-01-01</td>\n",
       "      <td>t</td>\n",
       "      <td>$100.00</td>\n",
       "      <td>$100.00</td>\n",
       "      <td>2.0</td>\n",
       "      <td>1125.0</td>\n",
       "    </tr>\n",
       "    <tr>\n",
       "      <th>3</th>\n",
       "      <td>6874942</td>\n",
       "      <td>2021-01-02</td>\n",
       "      <td>t</td>\n",
       "      <td>$100.00</td>\n",
       "      <td>$100.00</td>\n",
       "      <td>2.0</td>\n",
       "      <td>1125.0</td>\n",
       "    </tr>\n",
       "    <tr>\n",
       "      <th>4</th>\n",
       "      <td>6874942</td>\n",
       "      <td>2021-01-03</td>\n",
       "      <td>t</td>\n",
       "      <td>$100.00</td>\n",
       "      <td>$100.00</td>\n",
       "      <td>2.0</td>\n",
       "      <td>1125.0</td>\n",
       "    </tr>\n",
       "  </tbody>\n",
       "</table>\n",
       "</div>"
      ],
      "text/plain": [
       "   listing_id        date available    price adjusted_price  minimum_nights  \\\n",
       "0     6874942  2020-12-30         t  $100.00        $100.00             2.0   \n",
       "1     6874942  2020-12-31         f  $100.00        $100.00             2.0   \n",
       "2     6874942  2021-01-01         t  $100.00        $100.00             2.0   \n",
       "3     6874942  2021-01-02         t  $100.00        $100.00             2.0   \n",
       "4     6874942  2021-01-03         t  $100.00        $100.00             2.0   \n",
       "\n",
       "   maximum_nights  \n",
       "0          1125.0  \n",
       "1          1125.0  \n",
       "2          1125.0  \n",
       "3          1125.0  \n",
       "4          1125.0  "
      ]
     },
     "execution_count": 7,
     "metadata": {},
     "output_type": "execute_result"
    }
   ],
   "source": [
    "calendar.head()"
   ]
  },
  {
   "cell_type": "code",
   "execution_count": 8,
   "metadata": {},
   "outputs": [
    {
     "name": "stdout",
     "output_type": "stream",
     "text": [
      "<class 'pandas.core.frame.DataFrame'>\n",
      "RangeIndex: 582714 entries, 0 to 582713\n",
      "Data columns (total 7 columns):\n",
      " #   Column          Non-Null Count   Dtype  \n",
      "---  ------          --------------   -----  \n",
      " 0   listing_id      582714 non-null  int64  \n",
      " 1   date            582714 non-null  object \n",
      " 2   available       582714 non-null  object \n",
      " 3   price           582714 non-null  object \n",
      " 4   adjusted_price  582714 non-null  object \n",
      " 5   minimum_nights  582540 non-null  float64\n",
      " 6   maximum_nights  582540 non-null  float64\n",
      "dtypes: float64(2), int64(1), object(4)\n",
      "memory usage: 31.1+ MB\n"
     ]
    }
   ],
   "source": [
    "calendar.info()"
   ]
  },
  {
   "cell_type": "markdown",
   "metadata": {},
   "source": [
    "\n",
    "\n",
    "## MOST POPULAR LISITINGS IN LONDON"
   ]
  },
  {
   "cell_type": "code",
   "execution_count": 9,
   "metadata": {},
   "outputs": [
    {
     "data": {
      "image/png": "[encoded data removed]",
      "text/plain": [
       "<Figure size 576x576 with 1 Axes>"
      ]
     },
     "metadata": {},
     "output_type": "display_data"
    }
   ],
   "source": [
    "\n",
    "listings['room_type'].value_counts().plot(kind = 'pie', colors=['green', 'gold', 'black', 'pink'], figsize = (8, 8), autopct='%1.0f%%', pctdistance=1.1, labeldistance=1.2)\n",
    "plt.title('Pie Chart for Listing by Room Type', fontsize = 20)\n",
    "plt.xlabel('Room Type')\n",
    "plt.ylabel('')\n",
    "plt.show()"
   ]
  },
  {
   "cell_type": "raw",
   "metadata": {},
   "source": [
    "From the Pie chart it is evident that the shared rooms are more prominent in the listings."
   ]
  },
  {
   "cell_type": "markdown",
   "metadata": {},
   "source": [
    "## NEIGHBORHOOD WITH MOST LISTING"
   ]
  },
  {
   "cell_type": "code",
   "execution_count": 10,
   "metadata": {},
   "outputs": [
    {
     "data": {
      "image/png": "[encoded data removed]",
      "text/plain": [
       "<Figure size 576x432 with 1 Axes>"
      ]
     },
     "metadata": {
      "needs_background": "light"
     },
     "output_type": "display_data"
    }
   ],
   "source": [
    "listings['neighbourhood'].value_counts().plot(kind = 'bar', color = ['purple','gold', 'green','blue'], figsize = (8, 6))\n",
    "plt.title('Histogram of listing by Neighborhood Listings', fontsize = 20)\n",
    "plt.xlabel('Neighbourhood')\n",
    "plt.ylabel('Number of listings')\n",
    "plt.show()\n"
   ]
  },
  {
   "cell_type": "raw",
   "metadata": {},
   "source": [
    "Westiminister reports the highest number of listings compared to the rest of the neighborhood."
   ]
  },
  {
   "cell_type": "raw",
   "metadata": {},
   "source": [
    "THE MOST POPULAR ROOM TYPE IN ACROSS THE NEIGHBORHOOD"
   ]
  },
  {
   "cell_type": "code",
   "execution_count": 11,
   "metadata": {},
   "outputs": [
    {
     "name": "stdout",
     "output_type": "stream",
     "text": [
      "List of the Most common type of room in every neighbourhood: \n",
      "\n",
      "Westminster: 0 - entries: 6354\n",
      "Tower Hamlets: 0 - entries: 3527\n",
      "Hackney: 0 - entries: 3131\n",
      "Kensington and Chelsea: 0 - entries: 4088\n",
      "Camden: 0 - entries: 3412\n",
      "Islington: 0 - entries: 2746\n",
      "Lambeth: 0 - entries: 2234\n",
      "Southwark: 0 - entries: 2277\n",
      "Wandsworth: 0 - entries: 2195\n",
      "Hammersmith and Fulham: 0 - entries: 2254\n",
      "Brent: 0 - entries: 1165\n",
      "Haringey: 0 - entries: 1189\n",
      "Lewisham: 0 - entries: 1206\n",
      "Newham: 0 - entries: 1158\n",
      "Ealing: 0 - entries: 1021\n",
      "Barnet: 0 - entries: 911\n",
      "Greenwich: 0 - entries: 855\n",
      "Waltham Forest: 0 - entries: 732\n",
      "Merton: 0 - entries: 668\n",
      "Croydon: 0 - entries: 705\n",
      "Richmond upon Thames: 0 - entries: 619\n",
      "Hounslow: 0 - entries: 569\n",
      "Redbridge: 0 - entries: 462\n",
      "Enfield: 0 - entries: 430\n",
      "Hillingdon: 0 - entries: 408\n",
      "Bromley: 0 - entries: 349\n",
      "Kingston upon Thames: 0 - entries: 281\n",
      "City of London: 0 - entries: 418\n",
      "Harrow: 0 - entries: 300\n",
      "Barking and Dagenham: 0 - entries: 277\n",
      "Sutton: 0 - entries: 197\n",
      "Bexley: 0 - entries: 192\n",
      "Havering: 0 - entries: 158\n"
     ]
    }
   ],
   "source": [
    "print(\"List of the Most common type of room in every neighbourhood: \\n\")\n",
    "neighbourhoods = listings['neighbourhood'].value_counts().keys().tolist()\n",
    "for neighbourhood in neighbourhoods:\n",
    "    print(\"{}: {} - entries: {}\".format(neighbourhood, \n",
    "                                    np.argmax(listings.loc[listings['neighbourhood'] == neighbourhood]['room_type'].value_counts()),\n",
    "                                    np.max(listings.loc[listings['neighbourhood'] == neighbourhood]['room_type'].value_counts())))"
   ]
  },
  {
   "cell_type": "raw",
   "metadata": {},
   "source": []
  },
  {
   "cell_type": "raw",
   "metadata": {},
   "source": [
    "COST COMPARISON BY ROOM TYPE"
   ]
  },
  {
   "cell_type": "code",
   "execution_count": 12,
   "metadata": {},
   "outputs": [
    {
     "data": {
      "image/png": "[encoded data removed]",
      "text/plain": [
       "<Figure size 576x432 with 1 Axes>"
      ]
     },
     "metadata": {
      "needs_background": "light"
     },
     "output_type": "display_data"
    }
   ],
   "source": [
    "room_types = listings.groupby('room_type')\n",
    "# FInd out the mean value of the prices in each room type\n",
    "prices = room_types['price'].mean().sort_values(ascending = False)\n",
    "prices.plot(kind = 'bar', color=['#00471b', '#eee1c6', '#0077c0'] ,figsize = (8, 6))\n",
    "plt.title('Cost per room type', fontsize = 20)\n",
    "plt.xlabel('Room Type')\n",
    "plt.ylabel('Cost in $')\n",
    "plt.show()"
   ]
  },
  {
   "cell_type": "raw",
   "metadata": {},
   "source": [
    "Private rooms are more affordable as compared to the rest in average cost."
   ]
  }
 ],
 "metadata": {
  "kernelspec": {
   "display_name": "Python 3 (ipykernel)",
   "language": "python",
   "name": "python3"
  },
  "language_info": {
   "codemirror_mode": {
    "name": "ipython",
    "version": 3
   },
   "file_extension": ".py",
   "mimetype": "text/x-python",
   "name": "python",
   "nbconvert_exporter": "python",
   "pygments_lexer": "ipython3",
   "version": "3.10.8"
  }
 },
 "nbformat": 4,
 "nbformat_minor": 4
}
